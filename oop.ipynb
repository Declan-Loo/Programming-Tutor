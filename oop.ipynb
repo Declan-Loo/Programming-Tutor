{
 "cells": [
  {
   "cell_type": "markdown",
   "metadata": {},
   "source": [
    "## Why OOP?\n",
    "- OOP (Object Oriented Programming) enables to write modular code that can be reusable and maintained\n",
    "- Provides flexibility in your code via encapsulation/polymorphism/inheritance\n",
    "- Allows you to define your own datatypes (aka classes)"
   ]
  },
  {
   "cell_type": "markdown",
   "metadata": {},
   "source": [
    "## Definition of OOP terms\n",
    "- **Class**\n",
    "  - A blueprint or template for creating objects. It defines the structure and behavior (attributes and methods) that the objects created from the class will have.\n",
    "- **Object**: \n",
    "  - An instance of a class. It is a concrete entity that has the properties and behaviors defined by its class. Each object can have its own values for the attributes defined by the class.\n",
    "- **Attributes**: \n",
    "  - Also known as properties or fields, attributes are the data or variables that belong to a class or object. They define the state or characteristics of an object. For example, in a class \"Car\", attributes could be \"color\", \"brand\", or \"speed\".\n",
    "- **Behavior**: \n",
    "  - The actions or methods that objects of a class can perform. They define how an object interacts with the outside world or manipulates its own data. For example, in a \"Car\" class, behaviors could be \"drive\" or \"brake\".\n",
    "- **Encapsulation**: \n",
    "  - A principle that restricts access to certain components of an object, keeping its internal data hidden from outside interference and only allowing controlled interaction through defined methods. It helps in maintaining the integrity of the object's state.\n",
    "- **Polymorphism**: \n",
    "  - A concept that allows objects of different classes to be treated as objects of a common superclass. It enables one interface to be used for a general class of actions, with specific implementations in derived classes. For example, a \"Shape\" class could have different implementations for a \"draw\" method in subclasses like \"Circle\" and \"Rectangle\".\n",
    "- **Inheritance**: \n",
    "  - A mechanism where a class (called a subclass or child class) inherits attributes and behaviors from another class (called a superclass or parent class). It allows for code reuse and the creation of a hierarchy of classes.\n",
    "- **Public**: \n",
    "  - A keyword or access modifier that allows attributes and methods of a class to be accessible from outside the class. Public members can be accessed by any other class or object.\n",
    "- **Private**: \n",
    "  - A keyword or access modifier that restricts access to attributes and methods, making them accessible only within the class where they are defined. Private members cannot be accessed directly from outside the class, ensuring data protection."
   ]
  },
  {
   "cell_type": "markdown",
   "metadata": {},
   "source": [
    "## How to define a class\n",
    "```python\n",
    "class ClassName:\n",
    "    def __init__(self, att1, att2):\n",
    "        self.att1 = att1\n",
    "        self.att2 = att2\n",
    "        # if att3 is empty - not initialised with constructor\n",
    "        self.att3 = 0\n",
    "```"
   ]
  },
  {
   "cell_type": "code",
   "execution_count": 7,
   "metadata": {},
   "outputs": [],
   "source": [
    "class Vehicle:\n",
    "    def __init__(self, name, top_speed):\n",
    "        self.name = name\n",
    "        self.top_speed = top_speed"
   ]
  },
  {
   "cell_type": "code",
   "execution_count": 12,
   "metadata": {},
   "outputs": [
    {
     "name": "stdout",
     "output_type": "stream",
     "text": [
      "250\n"
     ]
    }
   ],
   "source": [
    "v1 = Vehicle(\"Volvo\", 200)\n",
    "v2 = Vehicle(\"Toyota 86\", 150)\n",
    "v3 = Vehicle(\"Tesla\", 250)\n",
    "vehicle_list = [v1, v2, v3]\n",
    "print(vehicle_list[2].top_speed)"
   ]
  },
  {
   "cell_type": "markdown",
   "metadata": {},
   "source": [
    "## Private Attributes\n",
    "- requires setters/getters to change the attribute / return the attribute respectively\n",
    "- enables **encapsulation** - method to bundle data and methods into easy-to-use units (from Coursera)"
   ]
  },
  {
   "cell_type": "code",
   "execution_count": null,
   "metadata": {},
   "outputs": [],
   "source": [
    "class Person:\n",
    "    def __init__(self, name, age):\n",
    "        self.__name = name\n",
    "        self.__age = age\n",
    "        \n",
    "    # setter and getter methods - essential for encapsulation\n",
    "    def set_age(self, new_age):\n",
    "        self.__age = new_age\n",
    "        \n",
    "    def get_age(self):\n",
    "        return self.__age\n",
    "    \n",
    "    def set_name(self, new_name):\n",
    "        self.__name = new_name\n",
    "    \n",
    "    def get_name(self):\n",
    "        return self.__name"
   ]
  },
  {
   "cell_type": "markdown",
   "metadata": {},
   "source": [
    "## Inheritance"
   ]
  },
  {
   "cell_type": "code",
   "execution_count": 10,
   "metadata": {},
   "outputs": [
    {
     "name": "stdout",
     "output_type": "stream",
     "text": [
      "Name: Volvo\n",
      "Top Speed: 200\n",
      "Make: Volvo\n",
      "Model: XC90\n"
     ]
    }
   ],
   "source": [
    "class Car(Vehicle):\n",
    "    def __init__(self, name, top_speed, make, model):\n",
    "        super().__init__(name, top_speed)\n",
    "        self.make = make\n",
    "        self.model = model\n",
    "        \n",
    "    def print_vehicle(self):\n",
    "        print('Name: {}\\nTop Speed: {}\\nMake: {}\\nModel: {}'.format(self.name, self.top_speed, self.make, self.model))    \n",
    "    \n",
    "class Truck(Vehicle):\n",
    "    def __init__(self, name, top_speed, make, model, payload):\n",
    "        super().__init__(name, top_speed)\n",
    "        self.make = make\n",
    "        self.model = model\n",
    "        self.payload = payload\n",
    "        \n",
    "    def __str__(self):\n",
    "        return 'Name: {}\\nTop Speed: {}\\nMake: {}\\nModel: {}\\nPayload: {}'.format(self.name, self.top_speed, self.make, self.model, self.payload)\n",
    "    \n",
    "car = Car(\"Volvo\", 200, \"Volvo\", \"XC90\")\n",
    "car.print_vehicle()\n"
   ]
  },
  {
   "cell_type": "code",
   "execution_count": null,
   "metadata": {},
   "outputs": [],
   "source": []
  }
 ],
 "metadata": {
  "kernelspec": {
   "display_name": "base",
   "language": "python",
   "name": "python3"
  },
  "language_info": {
   "codemirror_mode": {
    "name": "ipython",
    "version": 3
   },
   "file_extension": ".py",
   "mimetype": "text/x-python",
   "name": "python",
   "nbconvert_exporter": "python",
   "pygments_lexer": "ipython3",
   "version": "3.11.5"
  }
 },
 "nbformat": 4,
 "nbformat_minor": 2
}
